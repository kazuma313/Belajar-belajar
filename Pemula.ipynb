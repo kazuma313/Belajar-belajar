{
 "cells": [
  {
   "cell_type": "code",
   "execution_count": null,
   "metadata": {},
   "outputs": [],
   "source": [
    "print(\"Hello World\")\n",
    "print(\"Nama Kamu siapa?\")\n",
    "nama = input()\n",
    "print(\"Nama saya {}. salam kenal\".format(nama))\n",
    "print(\"Hallo {} salam kenal yaaa. btw umurmu berapa?\".format(nama))\n",
    "umur = input()\n",
    "print(\"Umur saya \"+ str(int(umur))+\" tahun\")\n",
    "\n"
   ]
  },
  {
   "cell_type": "code",
   "execution_count": null,
   "metadata": {},
   "outputs": [],
   "source": [
    "import sys\n",
    "\n",
    "while True:\n",
    "    print(\"tekan 'exit' untuk keluar dari loop\")\n",
    "    keluar = input()\n",
    "    if keluar == 'exit':\n",
    "        print('terimakasi telah menekan' + keluar)\n",
    "        sys.exit()\n",
    "    "
   ]
  },
  {
   "cell_type": "markdown",
   "metadata": {},
   "source": [
    "# game tebak angka"
   ]
  },
  {
   "cell_type": "markdown",
   "metadata": {},
   "source": [
    "### ini algoritma saya"
   ]
  },
  {
   "cell_type": "code",
   "execution_count": null,
   "metadata": {},
   "outputs": [],
   "source": [
    "import random\n",
    "\n",
    "angka = random.randint(1,10)\n",
    "print('saya lagi memikirkan angka antara 1 sampai 10')\n",
    "print('coba tebak angka yang saya pikirkan')\n",
    "\n",
    "\n",
    "kesempatan = 0\n",
    "while True:\n",
    "    print(angka)\n",
    "    tebak = int(input())\n",
    "    if angka == tebak:\n",
    "        print('selamat tebakan anda benar, yaitu'+ str(int(angka)))\n",
    "        break\n",
    "    else:\n",
    "        print(\"nah coba lagi\")\n",
    "        \n",
    "    kesempatan += 1\n",
    "    \n",
    "    if kesempatan == 5:\n",
    "        break"
   ]
  },
  {
   "cell_type": "markdown",
   "metadata": {},
   "source": [
    "### ini algoritma buku (memang lebih bagus dari buku karna aku keburu2 :) hehe)"
   ]
  },
  {
   "cell_type": "code",
   "execution_count": null,
   "metadata": {},
   "outputs": [],
   "source": [
    "import random\n",
    "secret =random.randint(1,10)\n",
    "print('saya lagi memikirkan sebuah angka 1 sampai 10')\n",
    "\n",
    "for i in range(1,6):\n",
    "    print('coba tebak')\n",
    "    guess = int(input())\n",
    "    \n",
    "    if guess < secret:\n",
    "        print(\"terlalu rendah\")\n",
    "    if guess > secret:\n",
    "        print(\"terlalu tinggi\")\n",
    "    else:\n",
    "        break\n",
    "if guess == secret:\n",
    "    print('selamat, angkanya adalah' + str(guess))\n",
    "else:\n",
    "    print(\"anda kalah\")\n",
    "    "
   ]
  },
  {
   "cell_type": "code",
   "execution_count": null,
   "metadata": {},
   "outputs": [],
   "source": []
  },
  {
   "cell_type": "code",
   "execution_count": null,
   "metadata": {},
   "outputs": [],
   "source": []
  }
 ],
 "metadata": {
  "kernelspec": {
   "display_name": "Python 3",
   "language": "python",
   "name": "python3"
  },
  "language_info": {
   "codemirror_mode": {
    "name": "ipython",
    "version": 3
   },
   "file_extension": ".py",
   "mimetype": "text/x-python",
   "name": "python",
   "nbconvert_exporter": "python",
   "pygments_lexer": "ipython3",
   "version": "3.8.5"
  }
 },
 "nbformat": 4,
 "nbformat_minor": 4
}
