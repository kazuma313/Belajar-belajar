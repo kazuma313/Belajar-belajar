{
 "cells": [
  {
   "cell_type": "code",
   "execution_count": null,
   "metadata": {},
   "outputs": [],
   "source": [
    "import cv2"
   ]
  },
  {
   "cell_type": "code",
   "execution_count": null,
   "metadata": {},
   "outputs": [],
   "source": [
    "trackerDict = {'csrt': cv2.TrackerCSRT_create,\n",
    "                'kcf' : cv2.TrackerKCF_create,\n",
    "                'boosting' : cv2.TrackerBoosting_create,\n",
    "                'mil' : cv2.TrackerMIL_create,\n",
    "                'tld' :cv2.TrackerTLD_create,\n",
    "                'madianflow' : cv2.TrackerMedianFlow_create,\n",
    "                'mosse' : cv2.TrackerMOSSE_create}"
   ]
  },
  {
   "cell_type": "code",
   "execution_count": null,
   "metadata": {},
   "outputs": [],
   "source": [
    "tracker = trackerDict['mosse']()"
   ]
  },
  {
   "cell_type": "code",
   "execution_count": null,
   "metadata": {},
   "outputs": [],
   "source": [
    "vid = cv2.VideoCapture(r'F:\\python\\belajar_yok\\CBIR\\main_basket.MP4')"
   ]
  },
  {
   "cell_type": "code",
   "execution_count": null,
   "metadata": {},
   "outputs": [],
   "source": [
    "ret, frame= vid.read()\n",
    "cv2.imshow('Frame',frame)\n",
    "boundingBox = cv2.selectROI('Frame',frame)\n",
    "tracker.init(frame,boundingBox)"
   ]
  },
  {
   "cell_type": "code",
   "execution_count": null,
   "metadata": {},
   "outputs": [],
   "source": [
    "while True:\n",
    "    ret, frame = vid.read()\n",
    "    if not ret:\n",
    "        break\n",
    "    (success, box) = tracker.update(frame)\n",
    "    if success:\n",
    "        (x,y,w,h) = [int(a) for a in box]\n",
    "        cv2.rectangle(frame,(x,y),(x+w, y+h),(0,255,0),2)\n",
    "    cv2.imshow('Frame', frame)\n",
    "    key = cv2.waitKey(5) & 0xFF\n",
    "    if key == ord('q'):\n",
    "        break\n",
    "        \n",
    "vid.release()\n",
    "cv2.destroyAllWindows()\n",
    "        "
   ]
  },
  {
   "cell_type": "markdown",
   "metadata": {},
   "source": [
    "# multi tracker"
   ]
  },
  {
   "cell_type": "code",
   "execution_count": null,
   "metadata": {},
   "outputs": [],
   "source": [
    "import cv2"
   ]
  },
  {
   "cell_type": "code",
   "execution_count": null,
   "metadata": {},
   "outputs": [],
   "source": [
    "trackerDict = {'csrt': cv2.TrackerCSRT_create,\n",
    "                'kcf' : cv2.TrackerKCF_create,\n",
    "                'boosting' : cv2.TrackerBoosting_create,\n",
    "                'mil' : cv2.TrackerMIL_create,\n",
    "                'tld' :cv2.TrackerTLD_create,\n",
    "                'madianflow' : cv2.TrackerMedianFlow_create,\n",
    "                'mosse' : cv2.TrackerMOSSE_create}"
   ]
  },
  {
   "cell_type": "code",
   "execution_count": null,
   "metadata": {},
   "outputs": [],
   "source": [
    "vid = cv2.VideoCapture(r'F:\\python\\belajar_yok\\CBIR\\main_basket.MP4')"
   ]
  },
  {
   "cell_type": "code",
   "execution_count": null,
   "metadata": {},
   "outputs": [],
   "source": [
    "trackers = cv2.MultiTracker_create()\n"
   ]
  },
  {
   "cell_type": "code",
   "execution_count": null,
   "metadata": {},
   "outputs": [],
   "source": [
    "ret, frame2 = vid.read()"
   ]
  },
  {
   "cell_type": "code",
   "execution_count": null,
   "metadata": {},
   "outputs": [],
   "source": [
    "jumlah_object = 3\n",
    "for i in range(jumlah_object):\n",
    "    cv2.imshow('Frame', frame2)\n",
    "    bbi = cv2.selectROI('Frame', frame2)\n",
    "    tracker_i = trackerDict['kcf']()\n",
    "    trackers.add(tracker_i,frame2,bbi)\n",
    "    "
   ]
  },
  {
   "cell_type": "code",
   "execution_count": null,
   "metadata": {},
   "outputs": [],
   "source": [
    "while True:\n",
    "    ret, frame = vid.read()\n",
    "    if not ret:\n",
    "        break\n",
    "    (success, boxes) = trackers.update(frame)\n",
    "    for box in boxes:\n",
    "        (x,y,w,h) = [int(a) for a in box]\n",
    "        cv2.rectangle(frame,(x,y),(x+w, y+h),(50,100,255),2)\n",
    "        \n",
    "    cv2.imshow('Frame', frame)\n",
    "    key = cv2.waitKey(5) & 0xFF\n",
    "    if key == ord('q'):\n",
    "        break\n",
    "        \n",
    "vid.release()\n",
    "cv2.destroyAllWindows()"
   ]
  },
  {
   "cell_type": "markdown",
   "metadata": {},
   "source": [
    "# live camera"
   ]
  },
  {
   "cell_type": "code",
   "execution_count": 1,
   "metadata": {},
   "outputs": [],
   "source": [
    "import cv2\n",
    "import imutils"
   ]
  },
  {
   "cell_type": "code",
   "execution_count": 5,
   "metadata": {},
   "outputs": [],
   "source": [
    "trackerDict = {'csrt': cv2.TrackerCSRT_create,\n",
    "                'kcf' : cv2.TrackerKCF_create,\n",
    "                'boosting' : cv2.TrackerBoosting_create,\n",
    "                'mil' : cv2.TrackerMIL_create,\n",
    "                'tld' :cv2.TrackerTLD_create,\n",
    "                'madianflow' : cv2.TrackerMedianFlow_create,\n",
    "                'mosse' : cv2.TrackerMOSSE_create}"
   ]
  },
  {
   "cell_type": "code",
   "execution_count": 18,
   "metadata": {},
   "outputs": [],
   "source": [
    "tracker = trackerDict['csrt']()"
   ]
  },
  {
   "cell_type": "code",
   "execution_count": 19,
   "metadata": {},
   "outputs": [],
   "source": [
    "vid = cv2.VideoCapture(0)\n"
   ]
  },
  {
   "cell_type": "code",
   "execution_count": 20,
   "metadata": {},
   "outputs": [
    {
     "data": {
      "text/plain": [
       "True"
      ]
     },
     "execution_count": 20,
     "metadata": {},
     "output_type": "execute_result"
    }
   ],
   "source": [
    "ret, frame= vid.read()\n",
    "frame = imutils.resize(frame, width=600)\n",
    "cv2.imshow('Frame',frame)\n",
    "boundingBox = cv2.selectROI('Frame',frame)\n",
    "tracker.init(frame,boundingBox)"
   ]
  },
  {
   "cell_type": "code",
   "execution_count": 21,
   "metadata": {},
   "outputs": [],
   "source": [
    "while True:\n",
    "    ret, frame = vid.read()\n",
    "    if not ret:\n",
    "        break\n",
    "    frame = imutils.resize(frame, width=600)\n",
    "    (success, box) = tracker.update(frame)\n",
    "    if success:\n",
    "        (x,y,w,h) = [int(a) for a in box]\n",
    "        cv2.rectangle(frame,(x,y),(x+w, y+h),(0,255,0),2)\n",
    "    cv2.imshow('Frame', frame)\n",
    "    key = cv2.waitKey(5) & 0xFF\n",
    "    if key == ord('q'):\n",
    "        break\n",
    "        \n",
    "vid.release()\n",
    "cv2.destroyAllWindows()"
   ]
  },
  {
   "cell_type": "code",
   "execution_count": null,
   "metadata": {},
   "outputs": [],
   "source": []
  }
 ],
 "metadata": {
  "kernelspec": {
   "display_name": "Python 3",
   "language": "python",
   "name": "python3"
  },
  "language_info": {
   "codemirror_mode": {
    "name": "ipython",
    "version": 3
   },
   "file_extension": ".py",
   "mimetype": "text/x-python",
   "name": "python",
   "nbconvert_exporter": "python",
   "pygments_lexer": "ipython3",
   "version": "3.8.5"
  }
 },
 "nbformat": 4,
 "nbformat_minor": 4
}
