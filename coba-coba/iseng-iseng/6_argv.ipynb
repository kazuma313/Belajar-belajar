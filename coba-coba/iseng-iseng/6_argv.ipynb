{
 "cells": [
  {
   "cell_type": "code",
   "execution_count": 29,
   "metadata": {},
   "outputs": [
    {
     "ename": "ValueError",
     "evalue": "invalid literal for int() with base 10: '-f'",
     "output_type": "error",
     "traceback": [
      "\u001b[1;31m---------------------------------------------------------------------------\u001b[0m",
      "\u001b[1;31mValueError\u001b[0m                                Traceback (most recent call last)",
      "\u001b[1;32m<ipython-input-29-e6ba601e8f45>\u001b[0m in \u001b[0;36m<module>\u001b[1;34m\u001b[0m\n\u001b[0;32m     23\u001b[0m         \u001b[0mself\u001b[0m\u001b[1;33m.\u001b[0m\u001b[0msegitiga_sama_kaki\u001b[0m\u001b[1;33m(\u001b[0m\u001b[1;33m)\u001b[0m\u001b[1;33m\u001b[0m\u001b[1;33m\u001b[0m\u001b[0m\n\u001b[0;32m     24\u001b[0m \u001b[1;33m\u001b[0m\u001b[0m\n\u001b[1;32m---> 25\u001b[1;33m \u001b[0mcreat\u001b[0m \u001b[1;33m=\u001b[0m \u001b[0mbentuk\u001b[0m\u001b[1;33m(\u001b[0m\u001b[0mint\u001b[0m\u001b[1;33m(\u001b[0m\u001b[0msys\u001b[0m\u001b[1;33m.\u001b[0m\u001b[0margv\u001b[0m\u001b[1;33m[\u001b[0m\u001b[1;36m1\u001b[0m\u001b[1;33m]\u001b[0m\u001b[1;33m)\u001b[0m\u001b[1;33m)\u001b[0m\u001b[1;33m\u001b[0m\u001b[1;33m\u001b[0m\u001b[0m\n\u001b[0m\u001b[0;32m     26\u001b[0m \u001b[1;31m# creat.segitiga_siku_siku()\u001b[0m\u001b[1;33m\u001b[0m\u001b[1;33m\u001b[0m\u001b[1;33m\u001b[0m\u001b[0m\n\u001b[0;32m     27\u001b[0m \u001b[0mcreat\u001b[0m\u001b[1;33m.\u001b[0m\u001b[0mtampil\u001b[0m\u001b[1;33m(\u001b[0m\u001b[1;33m)\u001b[0m\u001b[1;33m\u001b[0m\u001b[1;33m\u001b[0m\u001b[0m\n",
      "\u001b[1;31mValueError\u001b[0m: invalid literal for int() with base 10: '-f'"
     ]
    }
   ],
   "source": [
    "#!/usr/bin/env python\n",
    "# coding: utf-8\n",
    "\n",
    "# Jalanin di terminal !!!\n",
    "\n",
    "\n",
    "import sys\n",
    "\n",
    "class bentuk:\n",
    "    def __init__(self, jumlah):\n",
    "        self.jumlah = jumlah\n",
    "    \n",
    "    def  segitiga_siku_siku(self):\n",
    "    \tfor i in range(1, self.jumlah):\n",
    "        \tprint('x'*i)\n",
    "    \tprint()\n",
    "\n",
    "    def segitiga_sama_kaki(self):\t\n",
    "        for i in range(self.jumlah, 0,-1):\n",
    "            print(' '*i, end='')\n",
    "            print('x'*(self.jumlah-i-1),end='')\n",
    "            print('x'*(self.jumlah-i))\n",
    "        print()\n",
    "          \n",
    "    def tampil(self):\n",
    "    \tprint('---segitiga_siku_siku---')\n",
    "    \tself.segitiga_siku_siku()\n",
    "    \tprint('---segitiga_sama_kaki---')\n",
    "    \tself.segitiga_sama_kaki()\n",
    "\n",
    "creat = bentuk(int(sys.argv[1]))\n",
    "# creat.segitiga_siku_siku()\n",
    "creat.tampil()\n",
    "\n"
   ]
  },
  {
   "cell_type": "code",
   "execution_count": 23,
   "metadata": {},
   "outputs": [],
   "source": [
    "# panggil = bentuk(5)"
   ]
  },
  {
   "cell_type": "code",
   "execution_count": 24,
   "metadata": {},
   "outputs": [],
   "source": [
    "# panggil.segitiga_siku_siku()"
   ]
  },
  {
   "cell_type": "code",
   "execution_count": null,
   "metadata": {},
   "outputs": [],
   "source": []
  }
 ],
 "metadata": {
  "kernelspec": {
   "display_name": "Python 3",
   "language": "python",
   "name": "python3"
  },
  "language_info": {
   "codemirror_mode": {
    "name": "ipython",
    "version": 3
   },
   "file_extension": ".py",
   "mimetype": "text/x-python",
   "name": "python",
   "nbconvert_exporter": "python",
   "pygments_lexer": "ipython3",
   "version": "3.8.5"
  }
 },
 "nbformat": 4,
 "nbformat_minor": 4
}
