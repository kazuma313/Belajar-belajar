{
 "cells": [
  {
   "cell_type": "code",
   "execution_count": 26,
   "metadata": {},
   "outputs": [
    {
     "name": "stdout",
     "output_type": "stream",
     "text": [
      "xkkkkk\n",
      "xxkkkkk\n",
      "xxxkkkkk\n",
      "xxxxkkkkk\n"
     ]
    }
   ],
   "source": [
    "for i in range(1,5):\n",
    "    print('x'*i,end='')\n",
    "    for j in range(5,1,-1):\n",
    "        print('k'*j)\n",
    "        break"
   ]
  },
  {
   "cell_type": "code",
   "execution_count": 1,
   "metadata": {},
   "outputs": [
    {
     "name": "stdout",
     "output_type": "stream",
     "text": [
      "     \n",
      "    x\n",
      "   xxx\n",
      "  xxxxx\n",
      " xxxxxxx\n"
     ]
    }
   ],
   "source": [
    "class bentuk:\n",
    "    def __init__(self, jumlah):\n",
    "        self.jumlah = jumlah\n",
    "    \n",
    "    def  segitiga_siku_siku(self):\n",
    "        for i in range(1, self.jumlah):\n",
    "            print('x'*i)\n",
    "    \n",
    "    def segitiga_sama_kaki(self):\n",
    "        for i in range(self.jumlah, 0,-1):\n",
    "            print(' '*i, end='')\n",
    "            print('x'*(self.jumlah-i-1),end='')\n",
    "            print('x'*(self.jumlah-i))\n",
    "            \n",
    "creat = bentuk(5)\n",
    "# creat.segitiga_siku_siku()\n",
    "creat.segitiga_sama_kaki()"
   ]
  },
  {
   "cell_type": "code",
   "execution_count": null,
   "metadata": {},
   "outputs": [],
   "source": []
  }
 ],
 "metadata": {
  "kernelspec": {
   "display_name": "Python 3",
   "language": "python",
   "name": "python3"
  },
  "language_info": {
   "codemirror_mode": {
    "name": "ipython",
    "version": 3
   },
   "file_extension": ".py",
   "mimetype": "text/x-python",
   "name": "python",
   "nbconvert_exporter": "python",
   "pygments_lexer": "ipython3",
   "version": "3.8.5"
  }
 },
 "nbformat": 4,
 "nbformat_minor": 4
}
