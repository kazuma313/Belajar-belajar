{
 "cells": [
  {
   "cell_type": "code",
   "execution_count": 19,
   "metadata": {},
   "outputs": [],
   "source": [
    "#! python3\n",
    "# pw.py - An insecure password locker program.\n",
    "PASSWORDS = {'email': 'F7minlBDDuvMJuxESSKHFhTxFtjVB6',\n",
    " 'blog': 'VmALvQyKAxiVH5G8v01if1MLZF3sdt',\n",
    " 'VALORANT1': ('tes','yapz'),\n",
    " 'VALORANT2': ('tes2', 'upo')}"
   ]
  },
  {
   "cell_type": "code",
   "execution_count": 21,
   "metadata": {},
   "outputs": [
    {
     "data": {
      "text/plain": [
       "('KAZUMA31300', 'ulda1234')"
      ]
     },
     "execution_count": 21,
     "metadata": {},
     "output_type": "execute_result"
    }
   ],
   "source": [
    "PASSWORDS['VALORANT1']"
   ]
  },
  {
   "cell_type": "code",
   "execution_count": 14,
   "metadata": {},
   "outputs": [],
   "source": [
    "import sys, pyperclip\n",
    "if len(sys.argv) < 2:\n",
    "    print('Usage: python pw.py [account] - copy account password')\n",
    "    sys.exit()\n",
    "\n",
    "account = sys.argv[1] # first command line arg is the account name"
   ]
  },
  {
   "cell_type": "code",
   "execution_count": 11,
   "metadata": {},
   "outputs": [
    {
     "name": "stdout",
     "output_type": "stream",
     "text": [
      "There is no account named -f\n"
     ]
    }
   ],
   "source": [
    "if account in PASSWORDS:\n",
    "    pyperclip.copy(PASSWORDS[account])\n",
    "    print('PASSWORD for '+ account + ' copied to clipboard.')\n",
    "else:\n",
    "    print('There is no account named '+account)"
   ]
  },
  {
   "cell_type": "code",
   "execution_count": null,
   "metadata": {},
   "outputs": [],
   "source": []
  }
 ],
 "metadata": {
  "kernelspec": {
   "display_name": "Python 3",
   "language": "python",
   "name": "python3"
  },
  "language_info": {
   "codemirror_mode": {
    "name": "ipython",
    "version": 3
   },
   "file_extension": ".py",
   "mimetype": "text/x-python",
   "name": "python",
   "nbconvert_exporter": "python",
   "pygments_lexer": "ipython3",
   "version": "3.8.5"
  }
 },
 "nbformat": 4,
 "nbformat_minor": 4
}
