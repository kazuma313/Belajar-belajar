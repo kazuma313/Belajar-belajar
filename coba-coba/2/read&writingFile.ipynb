{
 "cells": [
  {
   "cell_type": "code",
   "execution_count": 21,
   "metadata": {},
   "outputs": [],
   "source": [
    "import os\n",
    "import random"
   ]
  },
  {
   "cell_type": "code",
   "execution_count": 22,
   "metadata": {},
   "outputs": [
    {
     "data": {
      "text/plain": [
       "'usr\\\\bin\\\\zulda'"
      ]
     },
     "execution_count": 22,
     "metadata": {},
     "output_type": "execute_result"
    }
   ],
   "source": [
    "os.path.join('usr', 'bin', 'zulda')"
   ]
  },
  {
   "cell_type": "code",
   "execution_count": 23,
   "metadata": {},
   "outputs": [
    {
     "data": {
      "text/plain": [
       "'F:\\\\python\\\\belajar_yok\\\\BelajarPython\\\\borring_stuf\\\\2'"
      ]
     },
     "execution_count": 23,
     "metadata": {},
     "output_type": "execute_result"
    }
   ],
   "source": [
    "os.getcwd()"
   ]
  },
  {
   "cell_type": "code",
   "execution_count": 24,
   "metadata": {},
   "outputs": [],
   "source": [
    "soal = {'1a' : {\"Siapakah presiden pertama Indonesia?\": {'a' : 'Ir.Soekarno', 'b' : 'Bj. Habibie', 'c' :'Megawati', 'd' : 'Jokowi'}},\n",
    "        '2a' : {\"Warna bendera Indonesia apa?\" : {'a' : 'Merah Putih', 'b' : 'Merah Putih Biru', 'c' : 'Ungu', 'd' : 'putih merah'}},\n",
    "        '3c' : {\"Jurusan apa yang anda jalani saat ini?\" : {'a' : 'Teknik Arsitektur', 'b' : 'Manajemen', 'c' : 'Teknik Informatika', 'd' : 'Ekonomi'}}, \n",
    "        '4a' : {\"Apa yang diperlukan untuk belajar?\" : {'a' : 'kemauan dan konsistensi', 'b' : 'kemalasan dan rebahan', 'c' : 'uang dan barang bagus', 'd' : 'Pacar dan koneksi'}},\n",
    "        '5b' : {\"Apa yang dilakukan jika adan yang berkelahi?\": {'a' : 'ditonton saja', 'b' : 'dileraikan', 'c' : 'ikutan berkelahi', 'd' : 'abaikan saja'}}\n",
    "        \n",
    "       }"
   ]
  },
  {
   "cell_type": "code",
   "execution_count": 25,
   "metadata": {},
   "outputs": [
    {
     "name": "stdout",
     "output_type": "stream",
     "text": [
      "{'a': 'Ir.Soekarno', 'b': 'Bj. Habibie', 'c': 'Megawati', 'd': 'Jokowi'}\n"
     ]
    }
   ],
   "source": [
    "\n",
    "for a in soal['1a'].values():\n",
    "    print(a)"
   ]
  },
  {
   "cell_type": "code",
   "execution_count": 26,
   "metadata": {},
   "outputs": [
    {
     "data": {
      "text/plain": [
       "True"
      ]
     },
     "execution_count": 26,
     "metadata": {},
     "output_type": "execute_result"
    }
   ],
   "source": [
    "os.path.exists(r'F:\\python\\belajar_yok\\BelajarPython\\borring stuf')"
   ]
  },
  {
   "cell_type": "code",
   "execution_count": 27,
   "metadata": {},
   "outputs": [],
   "source": [
    "tes = open('soal2.txt','w')"
   ]
  },
  {
   "cell_type": "code",
   "execution_count": 28,
   "metadata": {},
   "outputs": [
    {
     "data": {
      "text/plain": [
       "100"
      ]
     },
     "execution_count": 28,
     "metadata": {},
     "output_type": "execute_result"
    }
   ],
   "source": [
    "tes.write('disini adalah percobaan untuk menulis didalam file text.\\njika ada yang salah saya akan ulang kembali')"
   ]
  },
  {
   "cell_type": "code",
   "execution_count": 29,
   "metadata": {},
   "outputs": [],
   "source": [
    "tes.close()"
   ]
  },
  {
   "cell_type": "code",
   "execution_count": 32,
   "metadata": {},
   "outputs": [],
   "source": [
    "tes = open('soal2.txt')\n"
   ]
  },
  {
   "cell_type": "code",
   "execution_count": 33,
   "metadata": {},
   "outputs": [],
   "source": [
    "baca = tes.read()\n",
    "tes.close()"
   ]
  },
  {
   "cell_type": "code",
   "execution_count": 12,
   "metadata": {},
   "outputs": [
    {
     "data": {
      "text/plain": [
       "'disini adalah percobaan untuk menulis didalam file text.\\n jika ada yang salah saya akan ulang kembali\\nini percobaan dengan menggunakan metode append.\\n jadi akan menambahkan text dengan yang sudah ada\\nini percobaan dengan menggunakan metode append.\\n jadi akan menambahkan text dengan yang sudah ada'"
      ]
     },
     "execution_count": 12,
     "metadata": {},
     "output_type": "execute_result"
    }
   ],
   "source": [
    "baca"
   ]
  },
  {
   "cell_type": "code",
   "execution_count": 13,
   "metadata": {},
   "outputs": [],
   "source": [
    "tes = open('soal2','a')"
   ]
  },
  {
   "cell_type": "code",
   "execution_count": 14,
   "metadata": {},
   "outputs": [
    {
     "data": {
      "text/plain": [
       "98"
      ]
     },
     "execution_count": 14,
     "metadata": {},
     "output_type": "execute_result"
    }
   ],
   "source": [
    "tes.write('\\nini percobaan dengan menggunakan metode append.\\n jadi akan menambahkan text dengan yang sudah ada')"
   ]
  },
  {
   "cell_type": "code",
   "execution_count": 15,
   "metadata": {},
   "outputs": [],
   "source": [
    "tes.close()"
   ]
  },
  {
   "cell_type": "code",
   "execution_count": 16,
   "metadata": {},
   "outputs": [],
   "source": [
    "tes = open('soal2')"
   ]
  },
  {
   "cell_type": "code",
   "execution_count": 17,
   "metadata": {},
   "outputs": [],
   "source": [
    "baca = tes.read()"
   ]
  },
  {
   "cell_type": "code",
   "execution_count": 18,
   "metadata": {},
   "outputs": [
    {
     "name": "stdout",
     "output_type": "stream",
     "text": [
      "disini adalah percobaan untuk menulis didalam file text.\n",
      " jika ada yang salah saya akan ulang kembali\n",
      "ini percobaan dengan menggunakan metode append.\n",
      " jadi akan menambahkan text dengan yang sudah ada\n",
      "ini percobaan dengan menggunakan metode append.\n",
      " jadi akan menambahkan text dengan yang sudah ada\n",
      "ini percobaan dengan menggunakan metode append.\n",
      " jadi akan menambahkan text dengan yang sudah ada\n"
     ]
    }
   ],
   "source": [
    "print(baca)"
   ]
  },
  {
   "cell_type": "code",
   "execution_count": 177,
   "metadata": {},
   "outputs": [],
   "source": [
    "for k in range(5):\n",
    "    fileQuiz = open('capitalQuiz%s.txt' % (k+1), 'w')\n",
    "    jawaban = open('capitalsquiz_answers%s.txt' % (k+1), 'w')\n",
    "    \n",
    "    fileQuiz.write('Nama :\\nTanggal :\\n')\n",
    "    fileQuiz.write((' '*20) + 'soal quiz %s' % (k+1))\n",
    "    fileQuiz.write('\\n\\n')\n",
    "    \n",
    "    jawaban.write('Soal Quiz%s\\n' % (k+1))\n",
    "    \n",
    "    pertanyaan = list(soal.keys())\n",
    "    \n",
    "    random.shuffle(pertanyaan)\n",
    "    for i in range(3):\n",
    "        kunciJawaban = pertanyaan[i][1]\n",
    "        tanya = list(soal[pertanyaan[i]].keys())\n",
    "        opsi = soal[pertanyaan[i]].values()\n",
    "\n",
    "        fileQuiz.write('%d. %s\\n' % (i+1,*tanya))\n",
    "        fileQuiz.write('%s  \\n\\n' % (*opsi,))\n",
    "#         fileQuiz.write(opsi,'w')\n",
    "        jawaban.write('%d. %s\\n' % (i+1, kunciJawaban))\n",
    "        \n"
   ]
  },
  {
   "cell_type": "code",
   "execution_count": null,
   "metadata": {},
   "outputs": [],
   "source": [
    "\n",
    "    "
   ]
  },
  {
   "cell_type": "code",
   "execution_count": null,
   "metadata": {},
   "outputs": [],
   "source": []
  }
 ],
 "metadata": {
  "kernelspec": {
   "display_name": "Python 3",
   "language": "python",
   "name": "python3"
  },
  "language_info": {
   "codemirror_mode": {
    "name": "ipython",
    "version": 3
   },
   "file_extension": ".py",
   "mimetype": "text/x-python",
   "name": "python",
   "nbconvert_exporter": "python",
   "pygments_lexer": "ipython3",
   "version": "3.8.5"
  }
 },
 "nbformat": 4,
 "nbformat_minor": 4
}
