{
 "cells": [
  {
   "cell_type": "code",
   "execution_count": 1,
   "metadata": {},
   "outputs": [],
   "source": [
    "import re\n",
    "import pandas as pd"
   ]
  },
  {
   "cell_type": "code",
   "execution_count": 4,
   "metadata": {},
   "outputs": [
    {
     "data": {
      "text/plain": [
       "[                0             1             2             3             4  \\\n",
       " 0    2.130423e+09  8.121622e+10  8.121632e+10  8.121950e+10  8.121955e+10   \n",
       " 1    8.122269e+10  8.123222e+10  8.123674e+10  8.124295e+10  8.124324e+10   \n",
       " 2    8.124576e+10  8.124814e+10  8.125040e+10  8.125110e+10  8.125498e+10   \n",
       " 3    8.126022e+10  8.126682e+10  8.126772e+10  8.126884e+10  8.127777e+10   \n",
       " 4    8.128239e+10  8.128333e+10  8.128475e+09  8.128502e+10  8.128502e+10   \n",
       " ..            ...           ...           ...           ...           ...   \n",
       " 153  8.219300e+10  8.387487e+10  8.781500e+10  8.534196e+10  8.125398e+10   \n",
       " 154  8.138105e+10  8.227120e+10  8.222107e+10  8.127094e+10  8.570549e+10   \n",
       " 155  8.524281e+10  8.225884e+10  8.225884e+10  8.314819e+10  8.532070e+10   \n",
       " 156  8.141356e+10  8.788820e+10  8.218879e+10  8.383799e+10  8.383647e+10   \n",
       " 157  8.318444e+10  8.380046e+10  8.217775e+10           NaN           NaN   \n",
       " \n",
       "                 5  \n",
       " 0    8.122248e+10  \n",
       " 1    8.124419e+10  \n",
       " 2    8.125855e+10  \n",
       " 3    8.127838e+10  \n",
       " 4    8.128515e+10  \n",
       " ..            ...  \n",
       " 153  8.313247e+10  \n",
       " 154  8.521230e+10  \n",
       " 155  8.314819e+10  \n",
       " 156  8.535952e+10  \n",
       " 157           NaN  \n",
       " \n",
       " [158 rows x 6 columns]]"
      ]
     },
     "execution_count": 4,
     "metadata": {},
     "output_type": "execute_result"
    }
   ],
   "source": [
    "pd.read_html('https://yagami-cell.com/blog/daftar-list-no-penipu-online')"
   ]
  },
  {
   "cell_type": "code",
   "execution_count": 5,
   "metadata": {},
   "outputs": [],
   "source": [
    "cari_no = re.compile(r'(\\+)?(\\d\\d\\d\\d)-(\\d\\d\\d\\d-\\d\\d\\d\\d) (loe)*')"
   ]
  },
  {
   "cell_type": "code",
   "execution_count": 6,
   "metadata": {},
   "outputs": [],
   "source": [
    "nomor_saya = cari_no.search(\"ini adalah nomor hp saya : 0801-4323-1221 \")"
   ]
  },
  {
   "cell_type": "code",
   "execution_count": 7,
   "metadata": {},
   "outputs": [
    {
     "name": "stdout",
     "output_type": "stream",
     "text": [
      "nomor saya adalah : <re.Match object; span=(27, 42), match='0801-4323-1221 '>\n",
      "nomor saya adalah : 0801-4323-1221 \n",
      "nomor saya adalah : None\n"
     ]
    }
   ],
   "source": [
    "print(\"nomor saya adalah :\",nomor_saya)\n",
    "print(\"nomor saya adalah :\",nomor_saya.group())\n",
    "print(\"nomor saya adalah :\",nomor_saya.group(1))"
   ]
  },
  {
   "cell_type": "code",
   "execution_count": null,
   "metadata": {},
   "outputs": [],
   "source": []
  }
 ],
 "metadata": {
  "kernelspec": {
   "display_name": "Python 3",
   "language": "python",
   "name": "python3"
  },
  "language_info": {
   "codemirror_mode": {
    "name": "ipython",
    "version": 3
   },
   "file_extension": ".py",
   "mimetype": "text/x-python",
   "name": "python",
   "nbconvert_exporter": "python",
   "pygments_lexer": "ipython3",
   "version": "3.8.5"
  }
 },
 "nbformat": 4,
 "nbformat_minor": 4
}
